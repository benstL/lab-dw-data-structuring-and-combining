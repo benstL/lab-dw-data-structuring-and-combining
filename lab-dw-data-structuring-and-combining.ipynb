{
 "cells": [
  {
   "cell_type": "markdown",
   "id": "25d7736c-ba17-4aff-b6bb-66eba20fbf4e",
   "metadata": {},
   "source": [
    "# Lab | Data Structuring and Combining Data"
   ]
  },
  {
   "cell_type": "markdown",
   "id": "34ae7c66-9458-477c-8a31-c6b07a36bf66",
   "metadata": {},
   "source": [
    "Objective: \n",
    "- Combine and integrate data from multiple sources using merging, concatenating, or joining techniques to generate more comprehensive and meaningful datasets for analysis.\n",
    "- Modify the structure of data by pivoting, stacking/unstacking, or melting dataframes, enabling them to efficiently explore and analyze complex datasets. "
   ]
  },
  {
   "cell_type": "markdown",
   "id": "92b5f497-2c72-422b-86f7-06ad8842fd6d",
   "metadata": {},
   "source": [
    "# Challenge 1: Combining Data"
   ]
  },
  {
   "cell_type": "markdown",
   "id": "44f43906-6d37-4316-9ab4-7b6de18bc367",
   "metadata": {},
   "source": [
    "In this challenge, we will be working with the customer data from an insurance company, as we did in the two previous labs. The data can be found here:\n",
    "- https://raw.githubusercontent.com/data-bootcamp-v4/data/main/file1.csv\n",
    "\n",
    "But this time, we got new data, which can be found in the following 2 CSV files located at the following links: \n",
    "- https://raw.githubusercontent.com/data-bootcamp-v4/data/main/file2.csv\n",
    "- https://raw.githubusercontent.com/data-bootcamp-v4/data/main/file3.csv\n"
   ]
  },
  {
   "cell_type": "markdown",
   "id": "47bdd691-d5dd-4b85-a3be-3ca943cbf1e5",
   "metadata": {},
   "source": [
    "Perform data cleaning and formatting using the main cleaning and formatting function created in the previous lab to clean and format the data."
   ]
  },
  {
   "cell_type": "markdown",
   "id": "4eb4761d-8b1d-4ebb-a600-df45e1233ab4",
   "metadata": {},
   "source": [
    "Combine the data from the three dataframes into a single dataframe, named \"customer_data\", using appropriate merging, concatenating, and joining techniques.\n",
    "\n",
    "Verify that the customer_data dataframe contains all the rows and columns from the three original dataframes."
   ]
  },
  {
   "cell_type": "markdown",
   "id": "5d329067-5fe0-4a8f-b69d-d5b5cff0b7bf",
   "metadata": {},
   "source": [
    "Observation: \n",
    "- One option is to first combine the three datasets and then apply the cleaning function to the new combined dataset\n",
    "- Another option would be to read the clean file you saved in the previous lab, and just clean the two new files and concatenate the three clean datasets"
   ]
  },
  {
   "cell_type": "code",
   "execution_count": 23,
   "id": "492d06e3-92c7-4105-ac72-536db98d3244",
   "metadata": {},
   "outputs": [
    {
     "name": "stdout",
     "output_type": "stream",
     "text": [
      "      customer          st gender             education  \\\n",
      "0      RB50392  Washington    NaN                Master   \n",
      "1      QZ44356     Arizona      F              Bachelor   \n",
      "2      AI49188      Nevada      F              Bachelor   \n",
      "3      WW63253  California      M              Bachelor   \n",
      "4      GA49547  Washington      M  High School or Below   \n",
      "...        ...         ...    ...                   ...   \n",
      "12069  LA72316         NaN      M              Bachelor   \n",
      "12070  PK87824         NaN      F               College   \n",
      "12071  TD14365         NaN      M              Bachelor   \n",
      "12072  UP19263         NaN      M               College   \n",
      "12073  Y167826         NaN      M               College   \n",
      "\n",
      "      customer_lifetime_value   income  monthly_premium_auto  \\\n",
      "0                         NaN      0.0                1000.0   \n",
      "1                  697953.59%      0.0                  94.0   \n",
      "2                 1288743.17%  48767.0                 108.0   \n",
      "3                  764586.18%      0.0                 106.0   \n",
      "4                  536307.65%  36357.0                  68.0   \n",
      "...                       ...      ...                   ...   \n",
      "12069             23405.98798  71941.0                  73.0   \n",
      "12070             3096.511217  21604.0                  79.0   \n",
      "12071             8163.890428      0.0                  85.0   \n",
      "12072             7524.442436  21941.0                  96.0   \n",
      "12073             2611.836866      0.0                  77.0   \n",
      "\n",
      "      number_of_open_complaints     policy_type  vehicle_class  \\\n",
      "0                        1/0/00   Personal Auto  Four-Door Car   \n",
      "1                        1/0/00   Personal Auto  Four-Door Car   \n",
      "2                        1/0/00   Personal Auto   Two-Door Car   \n",
      "3                        1/0/00  Corporate Auto            SUV   \n",
      "4                        1/0/00   Personal Auto  Four-Door Car   \n",
      "...                         ...             ...            ...   \n",
      "12069                         0   Personal Auto  Four-Door Car   \n",
      "12070                         0  Corporate Auto  Four-Door Car   \n",
      "12071                         3  Corporate Auto  Four-Door Car   \n",
      "12072                         0   Personal Auto  Four-Door Car   \n",
      "12073                         0  Corporate Auto   Two-Door Car   \n",
      "\n",
      "       total_claim_amount       state  \n",
      "0                2.704934         NaN  \n",
      "1             1131.464935         NaN  \n",
      "2              566.472247         NaN  \n",
      "3              529.881344         NaN  \n",
      "4               17.269323         NaN  \n",
      "...                   ...         ...  \n",
      "12069          198.234764  California  \n",
      "12070          379.200000  California  \n",
      "12071          790.784983  California  \n",
      "12072          691.200000  California  \n",
      "12073          369.600000  California  \n",
      "\n",
      "[12074 rows x 12 columns]\n"
     ]
    }
   ],
   "source": [
    "import pandas as pd\n",
    "from thefunctions import lower_snake\n",
    "\n",
    "# Load data from the URLs\n",
    "url_file1 = \"https://raw.githubusercontent.com/data-bootcamp-v4/data/main/file1.csv\"\n",
    "url_file2 = \"https://raw.githubusercontent.com/data-bootcamp-v4/data/main/file2.csv\"\n",
    "url_file3 = \"https://raw.githubusercontent.com/data-bootcamp-v4/data/main/file3.csv\"\n",
    "\n",
    "# Read data into DataFrames\n",
    "df1 = pd.read_csv(url_file1)\n",
    "df2 = pd.read_csv(url_file2)\n",
    "df3 = pd.read_csv(url_file3)\n",
    "\n",
    "# Standardize column names for all DataFrames\n",
    "df1_cleaned = lower_snake(df1)\n",
    "df2_cleaned = lower_snake(df2)\n",
    "df3_cleaned = lower_snake(df3)\n",
    "\n",
    "# Concatenate the three DataFrames into a single DataFrame\n",
    "all_data = pd.concat([df1_cleaned, df2_cleaned, df3_cleaned], ignore_index=True)\n",
    "\n",
    "print(all_data)\n"
   ]
  },
  {
   "cell_type": "markdown",
   "id": "31b8a9e7-7db9-4604-991b-ef6771603e57",
   "metadata": {},
   "source": [
    "# Challenge 2: Structuring Data"
   ]
  },
  {
   "cell_type": "markdown",
   "id": "541006a8-7f35-4a82-813e-ca10c1183668",
   "metadata": {},
   "source": [
    "In this challenge, we will continue to work with customer data from an insurance company, but we will use a dataset with more columns, called marketing_customer_analysis.csv, which can be found at the following link:\n",
    "\n",
    "https://raw.githubusercontent.com/data-bootcamp-v4/data/main/marketing_customer_analysis.csv\n",
    "\n",
    "This dataset contains information such as customer demographics, policy details, vehicle information, and the customer's response to the last marketing campaign. Our goal is to explore and analyze this data by performing data cleaning, formatting, and structuring."
   ]
  },
  {
   "cell_type": "markdown",
   "id": "0aa50045-76ce-4e9f-8836-82dbc689d8dd",
   "metadata": {},
   "source": [
    "While the dataset has been partially cleaned and formatted, we still need to perform several data cleaning tasks. Specifically, we need to standardize the column names, clean null values, convert the effective_to_date column to datetime, and extract the months from the dataset and store them in a separate column. \n",
    "\n",
    "To accomplish these tasks, we will use the functions created in the previous step to standardize the column names and deal with null values, and then we will apply additional functions to convert the effective_to_date column to datetime and extract the months.\n",
    "\n",
    "Save the clean dataset into a csv file."
   ]
  },
  {
   "cell_type": "code",
   "execution_count": 27,
   "id": "aa10d9b0-1c27-4d3f-a8e4-db6ab73bfd26",
   "metadata": {},
   "outputs": [],
   "source": [
    "\n",
    "# Function to standardize the column names\n",
    "def lower_snake(df):\n",
    "    df.columns = df.columns.str.lower().str.replace(\" \", \"_\")\n",
    "    return df\n",
    "\n",
    "# Load the data from the provided link\n",
    "url = \"https://raw.githubusercontent.com/data-bootcamp-v4/data/main/marketing_customer_analysis.csv\"\n",
    "df = pd.read_csv(url)\n",
    "\n",
    "# Standardize the column names\n",
    "df = lower_snake(df)\n",
    "\n",
    "# Fill null values with zeros for numeric columns\n",
    "numeric_cols = df.select_dtypes(include=[float, int]).columns\n",
    "df[numeric_cols] = df[numeric_cols].fillna(0)\n",
    "\n",
    "# Convert 'effective_to_date' to datetime with correct date format\n",
    "df['effective_to_date'] = pd.to_datetime(df['effective_to_date'], format='%m/%d/%y')\n",
    "\n",
    "# Extract months from 'effective_to_date' and store them in a new column\n",
    "df['effective_month'] = df['effective_to_date'].dt.month\n",
    "\n",
    "# Save the clean dataset to a CSV file\n",
    "df.to_csv('clean_marketing_customer_analysis.csv', index=False)"
   ]
  },
  {
   "cell_type": "markdown",
   "id": "80f846bb-3f5e-4ca2-96c0-900728daca5a",
   "metadata": {
    "tags": []
   },
   "source": [
    "## Exercise 2: Structuring Data"
   ]
  },
  {
   "cell_type": "markdown",
   "id": "df35fd0d-513e-4e77-867e-429da10a9cc7",
   "metadata": {},
   "source": [
    "1. You work at the marketing department and you want to know which sales channel brought the most sales in terms of total revenue. Using pivot, create a summary table showing the total revenue for each sales channel (branch, call center, web, and mail).\n",
    "Round the total revenue to 2 decimal points.  Analyze the resulting table to draw insights."
   ]
  },
  {
   "cell_type": "markdown",
   "id": "640993b2-a291-436c-a34d-a551144f8196",
   "metadata": {},
   "source": [
    "2. Create a pivot table that shows the average customer lifetime value per gender and education level. Analyze the resulting table to draw insights."
   ]
  },
  {
   "cell_type": "markdown",
   "id": "32c7f2e5-3d90-43e5-be33-9781b6069198",
   "metadata": {},
   "source": [
    "3. You work at the customer service department and you want to know which months had the highest number of complaints by policy type category. Create a summary table showing the number of complaints by policy type and month.\n",
    "Show it in a long format table. "
   ]
  },
  {
   "cell_type": "markdown",
   "id": "e3d09a8f-953c-448a-a5f8-2e5a8cca7291",
   "metadata": {},
   "source": [
    "*In data analysis, a long format table is a way of structuring data in which each observation or measurement is stored in a separate row of the table. The key characteristic of a long format table is that each column represents a single variable, and each row represents a single observation of that variable.*\n",
    "\n",
    "*More information about long and wide format tables here: https://www.statology.org/long-vs-wide-data/*"
   ]
  },
  {
   "cell_type": "code",
   "execution_count": 31,
   "id": "3a069e0b-b400-470e-904d-d17582191be4",
   "metadata": {},
   "outputs": [
    {
     "name": "stdout",
     "output_type": "stream",
     "text": [
      "Index(['unnamed:_0', 'customer', 'state', 'customer_lifetime_value',\n",
      "       'response', 'coverage', 'education', 'effective_to_date',\n",
      "       'employmentstatus', 'gender', 'income', 'location_code',\n",
      "       'marital_status', 'monthly_premium_auto', 'months_since_last_claim',\n",
      "       'months_since_policy_inception', 'number_of_open_complaints',\n",
      "       'number_of_policies', 'policy_type', 'policy', 'renew_offer_type',\n",
      "       'sales_channel', 'total_claim_amount', 'vehicle_class', 'vehicle_size',\n",
      "       'vehicle_type', 'effective_month'],\n",
      "      dtype='object')\n",
      "               total_claim_amount  Total Revenue\n",
      "sales_channel                                   \n",
      "Agent                1.810227e+06     1810226.82\n",
      "Branch               1.301204e+06     1301204.00\n",
      "Call Center          9.266008e+05      926600.82\n",
      "Web                  7.066000e+05      706600.04\n"
     ]
    }
   ],
   "source": [
    "#1\n",
    "\n",
    "# Standardize the column names by converting them to lowercase and replacing spaces with underscores\n",
    "df.columns = df.columns.str.lower().str.replace(\" \", \"_\")\n",
    "\n",
    "# Print the list of columns to verify the correct column name\n",
    "print(df.columns)\n",
    "\n",
    "# Create a pivot table to summarize total revenue for each sales channel\n",
    "summary_table = df.pivot_table(values='total_claim_amount', index='sales_channel', aggfunc='sum')\n",
    "\n",
    "# Round the total revenue to 2 decimal points\n",
    "summary_table['Total Revenue'] = summary_table['total_claim_amount'].round(2)\n",
    "\n",
    "# Display the summary table\n",
    "print(summary_table)\n",
    "\n"
   ]
  },
  {
   "cell_type": "code",
   "execution_count": 32,
   "id": "4d118c19",
   "metadata": {},
   "outputs": [
    {
     "name": "stdout",
     "output_type": "stream",
     "text": [
      "                             customer_lifetime_value  \\\n",
      "gender education                                       \n",
      "F      Bachelor                          7874.269478   \n",
      "       College                           7748.823325   \n",
      "       Doctor                            7328.508916   \n",
      "       High School or Below              8675.220201   \n",
      "       Master                            8157.053154   \n",
      "M      Bachelor                          7703.601675   \n",
      "       College                           8052.459288   \n",
      "       Doctor                            7415.333638   \n",
      "       High School or Below              8149.687783   \n",
      "       Master                            8168.832659   \n",
      "\n",
      "                             Average Customer Lifetime Value  \n",
      "gender education                                              \n",
      "F      Bachelor                                      7874.27  \n",
      "       College                                       7748.82  \n",
      "       Doctor                                        7328.51  \n",
      "       High School or Below                          8675.22  \n",
      "       Master                                        8157.05  \n",
      "M      Bachelor                                      7703.60  \n",
      "       College                                       8052.46  \n",
      "       Doctor                                        7415.33  \n",
      "       High School or Below                          8149.69  \n",
      "       Master                                        8168.83  \n"
     ]
    }
   ],
   "source": [
    "#2\n",
    "\n",
    "# Standardize the column names by converting them to lowercase and replacing spaces with underscores\n",
    "df.columns = df.columns.str.lower().str.replace(\" \", \"_\")\n",
    "\n",
    "# Create a pivot table to summarize the average customer lifetime value per gender and education level\n",
    "pivot_table_avg_clv = df.pivot_table(values='customer_lifetime_value', index=['gender', 'education'], aggfunc='mean')\n",
    "\n",
    "# Round the average customer lifetime value to 2 decimal points\n",
    "pivot_table_avg_clv['Average Customer Lifetime Value'] = pivot_table_avg_clv['customer_lifetime_value'].round(2)\n",
    "\n",
    "# Display the pivot table\n",
    "print(pivot_table_avg_clv)\n"
   ]
  },
  {
   "cell_type": "code",
   "execution_count": 33,
   "id": "7531bff0",
   "metadata": {},
   "outputs": [
    {
     "name": "stdout",
     "output_type": "stream",
     "text": [
      "      policy_type  effective_month  number_of_open_complaints\n",
      "0  Corporate Auto                1                      415.0\n",
      "1  Corporate Auto                2                      361.0\n",
      "2   Personal Auto                1                     1635.0\n",
      "3   Personal Auto                2                     1363.0\n",
      "4    Special Auto                1                       84.0\n",
      "5    Special Auto                2                       91.0\n"
     ]
    }
   ],
   "source": [
    "#3\n",
    "\n",
    "# Create a pivot table to summarize the number of complaints by policy type and month\n",
    "pivot_table_complaints = df.pivot_table(values='number_of_open_complaints', \n",
    "                                       index=['policy_type', 'effective_month'], \n",
    "                                       aggfunc='sum')\n",
    "\n",
    "# Reset the index to convert the pivot table to a long format\n",
    "pivot_table_complaints.reset_index(inplace=True)\n",
    "\n",
    "# Display the summary table in long format\n",
    "print(pivot_table_complaints)\n"
   ]
  }
 ],
 "metadata": {
  "kernelspec": {
   "display_name": "Python 3 (ipykernel)",
   "language": "python",
   "name": "python3"
  },
  "language_info": {
   "codemirror_mode": {
    "name": "ipython",
    "version": 3
   },
   "file_extension": ".py",
   "mimetype": "text/x-python",
   "name": "python",
   "nbconvert_exporter": "python",
   "pygments_lexer": "ipython3",
   "version": "3.11.4"
  }
 },
 "nbformat": 4,
 "nbformat_minor": 5
}
